{
 "cells": [
  {
   "cell_type": "code",
   "execution_count": 1,
   "metadata": {},
   "outputs": [
    {
     "data": {
      "text/plain": [
       "'/workspaces/s23-Final-Project'"
      ]
     },
     "execution_count": 1,
     "metadata": {},
     "output_type": "execute_result"
    }
   ],
   "source": [
    "! pwd"
   ]
  },
  {
   "cell_type": "code",
   "execution_count": 4,
   "metadata": {},
   "outputs": [
    {
     "name": "stdout",
     "output_type": "stream",
     "text": [
      "Babel-2.12.1.dist-info\n",
      "GitPython-3.1.31.dist-info\n",
      "IPython\n",
      "Jinja2-3.1.2.dist-info\n",
      "MarkupSafe-2.1.2.dist-info\n",
      "PIL\n",
      "Pillow-9.5.0.dist-info\n",
      "Pillow.libs\n",
      "PyYAML-6.0.dist-info\n",
      "Pygments-2.14.0.dist-info\n",
      "Send2Trash-1.8.0.dist-info\n",
      "__pycache__\n",
      "_argon2_cffi_bindings\n",
      "_cffi_backend.cpython-310-x86_64-linux-gnu.so\n",
      "_distutils_hack\n",
      "_plotly_future_\n",
      "_plotly_utils\n",
      "_pyrsistent_version.py\n",
      "_yaml\n",
      "aiofiles\n",
      "aiofiles-22.1.0.dist-info\n",
      "aiosqlite\n",
      "aiosqlite-0.18.0.dist-info\n",
      "anyio\n",
      "anyio-3.6.2.dist-info\n",
      "argon2\n",
      "argon2_cffi-21.3.0.dist-info\n",
      "argon2_cffi_bindings-21.2.0.dist-info\n",
      "arrow\n",
      "arrow-1.2.3.dist-info\n",
      "asttokens\n",
      "asttokens-2.2.1.dist-info\n",
      "attr\n",
      "attrs\n",
      "attrs-22.2.0.dist-info\n",
      "babel\n",
      "backcall\n",
      "backcall-0.2.0.dist-info\n",
      "beautifulsoup4-4.12.0.dist-info\n",
      "bleach\n",
      "bleach-6.0.0.dist-info\n",
      "bs4\n",
      "certifi\n",
      "certifi-2022.12.7.dist-info\n",
      "cffi\n",
      "cffi-1.15.1.dist-info\n",
      "charset_normalizer\n",
      "charset_normalizer-3.1.0.dist-info\n",
      "cmake\n",
      "cmake-3.26.1.dist-info\n",
      "colorama\n",
      "colorama-0.4.6.dist-info\n",
      "comm\n",
      "comm-0.1.3.dist-info\n",
      "contourpy\n",
      "contourpy-1.0.7.dist-info\n",
      "cycler-0.11.0.dist-info\n",
      "cycler.py\n",
      "dateutil\n",
      "debugpy\n",
      "debugpy-1.6.6.dist-info\n",
      "decorator-5.1.1.dist-info\n",
      "decorator.py\n",
      "defusedxml\n",
      "defusedxml-0.7.1.dist-info\n",
      "distutils-precedence.pth\n",
      "executing\n",
      "executing-1.2.0.dist-info\n",
      "fastjsonschema\n",
      "fastjsonschema-2.16.3.dist-info\n",
      "filelock\n",
      "filelock-3.10.7.dist-info\n",
      "fontTools\n",
      "fonttools-4.39.3.dist-info\n",
      "fqdn\n",
      "fqdn-1.5.1.dist-info\n",
      "functorch\n",
      "git\n",
      "gitdb\n",
      "gitdb-4.0.10.dist-info\n",
      "idna\n",
      "idna-3.4.dist-info\n",
      "ipykernel\n",
      "ipykernel-6.22.0.dist-info\n",
      "ipykernel_launcher.py\n",
      "ipython-8.12.0.dist-info\n",
      "ipython_genutils\n",
      "ipython_genutils-0.2.0.dist-info\n",
      "isoduration\n",
      "isoduration-20.11.0.dist-info\n",
      "isympy.py\n",
      "jedi\n",
      "jedi-0.18.2.dist-info\n",
      "jinja2\n",
      "joblib\n",
      "joblib-1.2.0.dist-info\n",
      "json5\n",
      "json5-0.9.11.dist-info\n",
      "jsonpointer-2.3.dist-info\n",
      "jsonpointer.py\n",
      "jsonschema\n",
      "jsonschema-4.17.3.dist-info\n",
      "jupyter.py\n",
      "jupyter_client\n",
      "jupyter_client-8.1.0.dist-info\n",
      "jupyter_core\n",
      "jupyter_core-5.3.0.dist-info\n",
      "jupyter_events\n",
      "jupyter_events-0.6.3.dist-info\n",
      "jupyter_server\n",
      "jupyter_server-2.5.0.dist-info\n",
      "jupyter_server_fileid\n",
      "jupyter_server_fileid-0.8.0.dist-info\n",
      "jupyter_server_mathjax\n",
      "jupyter_server_mathjax-0.2.6.dist-info\n",
      "jupyter_server_terminals\n",
      "jupyter_server_terminals-0.4.4.dist-info\n",
      "jupyter_server_ydoc\n",
      "jupyter_server_ydoc-0.8.0.dist-info\n",
      "jupyter_ydoc\n",
      "jupyter_ydoc-0.2.3.dist-info\n",
      "jupyterlab\n",
      "jupyterlab-3.6.3.dist-info\n",
      "jupyterlab_git\n",
      "jupyterlab_git-0.41.0.dist-info\n",
      "jupyterlab_plotly\n",
      "jupyterlab_pygments\n",
      "jupyterlab_pygments-0.2.2.dist-info\n",
      "jupyterlab_server\n",
      "jupyterlab_server-2.22.0.dist-info\n",
      "kiwisolver\n",
      "kiwisolver-1.4.4.dist-info\n",
      "lit\n",
      "lit-16.0.0-py3.10.egg-info\n",
      "markupsafe\n",
      "matplotlib\n",
      "matplotlib-3.7.1-py3.10-nspkg.pth\n",
      "matplotlib-3.7.1.dist-info\n",
      "matplotlib_inline\n",
      "matplotlib_inline-0.1.6.dist-info\n",
      "mistune\n",
      "mistune-2.0.5.dist-info\n",
      "mpl_toolkits\n",
      "mpmath\n",
      "mpmath-1.3.0.dist-info\n",
      "nbclassic\n",
      "nbclassic-0.5.4.dist-info\n",
      "nbclient\n",
      "nbclient-0.7.3.dist-info\n",
      "nbconvert\n",
      "nbconvert-7.3.0.dist-info\n",
      "nbdime\n",
      "nbdime-3.1.1.dist-info\n",
      "nbformat\n",
      "nbformat-5.8.0.dist-info\n",
      "nest_asyncio-1.5.6.dist-info\n",
      "nest_asyncio.py\n",
      "networkx\n",
      "networkx-3.0.dist-info\n",
      "notebook\n",
      "notebook-6.5.3.dist-info\n",
      "notebook_shim\n",
      "notebook_shim-0.2.2.dist-info\n",
      "numpy\n",
      "numpy-1.24.2.dist-info\n",
      "numpy.libs\n",
      "nvfuser\n",
      "nvidia\n",
      "nvidia_cublas_cu11-11.10.3.66.dist-info\n",
      "nvidia_cuda_cupti_cu11-11.7.101.dist-info\n",
      "nvidia_cuda_nvrtc_cu11-11.7.99.dist-info\n",
      "nvidia_cuda_runtime_cu11-11.7.99.dist-info\n",
      "nvidia_cudnn_cu11-8.5.0.96.dist-info\n",
      "nvidia_cufft_cu11-10.9.0.58.dist-info\n",
      "nvidia_curand_cu11-10.2.10.91.dist-info\n",
      "nvidia_cusolver_cu11-11.4.0.1.dist-info\n",
      "nvidia_cusparse_cu11-11.7.4.91.dist-info\n",
      "nvidia_nccl_cu11-2.14.3.dist-info\n",
      "nvidia_nvtx_cu11-11.7.91.dist-info\n",
      "packaging\n",
      "packaging-23.0.dist-info\n",
      "pandas\n",
      "pandas-2.0.0.dist-info\n",
      "pandocfilters-1.5.0.dist-info\n",
      "pandocfilters.py\n",
      "parso\n",
      "parso-0.8.3.dist-info\n",
      "pexpect\n",
      "pexpect-4.8.0.dist-info\n",
      "pickleshare-0.7.5.dist-info\n",
      "pickleshare.py\n",
      "pkg_resources\n",
      "platformdirs\n",
      "platformdirs-3.2.0.dist-info\n",
      "plotly\n",
      "plotly-5.14.0.dist-info\n",
      "prometheus_client\n",
      "prometheus_client-0.16.0.dist-info\n",
      "prompt_toolkit\n",
      "prompt_toolkit-3.0.38.dist-info\n",
      "psutil\n",
      "psutil-5.9.4.dist-info\n",
      "ptyprocess\n",
      "ptyprocess-0.7.0.dist-info\n",
      "pure_eval\n",
      "pure_eval-0.2.2.dist-info\n",
      "pycparser\n",
      "pycparser-2.21.dist-info\n",
      "pygments\n",
      "pylab.py\n",
      "pyparsing\n",
      "pyparsing-3.0.9.dist-info\n",
      "pyrsistent\n",
      "pyrsistent-0.19.3.dist-info\n",
      "python_dateutil-2.8.2.dist-info\n",
      "python_json_logger-2.0.7.dist-info\n",
      "pythonjsonlogger\n",
      "pytz\n",
      "pytz-2023.3.dist-info\n",
      "pyzmq-25.0.2.dist-info\n",
      "pyzmq.libs\n",
      "requests\n",
      "requests-2.28.2.dist-info\n",
      "rfc3339_validator-0.1.4.dist-info\n",
      "rfc3339_validator.py\n",
      "rfc3986_validator-0.1.1.dist-info\n",
      "rfc3986_validator.py\n",
      "scikit_learn-1.2.2.dist-info\n",
      "scikit_learn.libs\n",
      "scipy\n",
      "scipy-1.10.1.dist-info\n",
      "scipy.libs\n",
      "seaborn\n",
      "seaborn-0.12.2.dist-info\n",
      "send2trash\n",
      "setuptools\n",
      "setuptools-67.6.1.dist-info\n",
      "six-1.16.0.dist-info\n",
      "six.py\n",
      "sklearn\n",
      "smmap\n",
      "smmap-5.0.0.dist-info\n",
      "sniffio\n",
      "sniffio-1.3.0.dist-info\n",
      "soupsieve\n",
      "soupsieve-2.4.dist-info\n",
      "stack_data\n",
      "stack_data-0.6.2.dist-info\n",
      "sympy\n",
      "sympy-1.11.1.dist-info\n",
      "tenacity\n",
      "tenacity-8.2.2.dist-info\n",
      "terminado\n",
      "terminado-0.17.1.dist-info\n",
      "threadpoolctl-3.1.0.dist-info\n",
      "threadpoolctl.py\n",
      "tinycss2\n",
      "tinycss2-1.2.1.dist-info\n",
      "tomli\n",
      "tomli-2.0.1.dist-info\n",
      "torch\n",
      "torch-2.0.0.dist-info\n",
      "torchgen\n",
      "tornado\n",
      "tornado-6.2.dist-info\n",
      "traitlets\n",
      "traitlets-5.9.0.dist-info\n",
      "triton\n",
      "triton-2.0.0.dist-info\n",
      "typing_extensions-4.5.0.dist-info\n",
      "typing_extensions.py\n",
      "tzdata\n",
      "tzdata-2023.3.dist-info\n",
      "uri_template\n",
      "uri_template-1.2.0.dist-info\n",
      "urllib3\n",
      "urllib3-1.26.15.dist-info\n",
      "wcwidth\n",
      "wcwidth-0.2.6.dist-info\n",
      "webcolors\n",
      "webcolors-1.13.dist-info\n",
      "webencodings\n",
      "webencodings-0.5.1.dist-info\n",
      "websocket\n",
      "websocket_client-1.5.1.dist-info\n",
      "wheel\n",
      "wheel-0.40.0.dist-info\n",
      "y_py\n",
      "y_py-0.5.9.dist-info\n",
      "yaml\n",
      "ypy_websocket\n",
      "ypy_websocket-0.8.2.dist-info\n",
      "zmq\n"
     ]
    }
   ],
   "source": [
    "! ls ~/.local/lib/python3.10/site-packages"
   ]
  },
  {
   "cell_type": "code",
   "execution_count": 5,
   "metadata": {},
   "outputs": [
    {
     "name": "stdout",
     "output_type": "stream",
     "text": [
      "/workspaces/s23-Final-Project/pkg\n"
     ]
    }
   ],
   "source": [
    "%%bash\n",
    "cd pkg\n",
    "pwd"
   ]
  },
  {
   "cell_type": "code",
   "execution_count": 6,
   "metadata": {},
   "outputs": [
    {
     "data": {
      "text/plain": [
       "'/workspaces/s23-Final-Project'"
      ]
     },
     "execution_count": 6,
     "metadata": {},
     "output_type": "execute_result"
    }
   ],
   "source": [
    "! pwd"
   ]
  },
  {
   "cell_type": "code",
   "execution_count": 7,
   "metadata": {},
   "outputs": [
    {
     "name": "stdout",
     "output_type": "stream",
     "text": [
      "Writing pkg/setup.py\n"
     ]
    }
   ],
   "source": [
    "%%writefile pkg/setup.py\n",
    "from setuptools import setup\n",
    "\n",
    "setup(name='s23openalex',\n",
    "      version='0.0.1',\n",
    "      description='bibtex entry',\n",
    "      maintainer='Seonghwan Hong',\n",
    "      maintainer_email='seonghwh@andrew.cmu.edu',\n",
    "      license='MIT',\n",
    "      packages=['s23openalex'],\n",
    "      scripts=[],\n",
    "      long_description='''bibtex entry''')"
   ]
  },
  {
   "cell_type": "code",
   "execution_count": 8,
   "metadata": {},
   "outputs": [
    {
     "name": "stdout",
     "output_type": "stream",
     "text": [
      "Writing pkg/s23openalex/__init__.py\n"
     ]
    }
   ],
   "source": [
    "%%writefile pkg/s23openalex/__init__.py\n",
    "print('Successfully imported s23openalex!')\n",
    "from .works import Works"
   ]
  },
  {
   "cell_type": "code",
   "execution_count": 9,
   "metadata": {},
   "outputs": [
    {
     "name": "stdout",
     "output_type": "stream",
     "text": [
      "Writing pkg/s23openalex/works.py\n"
     ]
    }
   ],
   "source": [
    "%%writefile pkg/s23openalex/works.py\n",
    "from bibtexparser.bwriter import BibTexWriter\n",
    "from bibtexparser.bibdatabase import BibDatabase\n",
    "from bibtexparser import dumps\n",
    "import requests\n",
    "\n",
    "class Works:\n",
    "    def __init__(self, oaid):\n",
    "        self.oaid = oaid\n",
    "        self.req = requests.get(f'https://api.openalex.org/works/{oaid}')\n",
    "        self.data = self.req.json()\n",
    "        \n",
    "    def __str__(self):\n",
    "        return 'str'\n",
    "        \n",
    "    def __repr__(self):\n",
    "        return 'repr'\n",
    "\n",
    "    def bibtex(self):\n",
    "        _authors = [au['author']['display_name'] for au in self.data['authorships']]\n",
    "        if len(_authors) == 0:\n",
    "            authors = 'Editorial'\n",
    "        elif len(_authors) == 1:\n",
    "            authors = _authors[0]\n",
    "        else:\n",
    "            authors = ', '.join(_authors[0:-1]) + ' and' + _authors[-1] \n",
    "        \n",
    "        pages = '-'.join([self.data['biblio'].get('first_page', '') or '',\n",
    "                          self.data['biblio'].get('last_page', '') or ''])\n",
    "        \n",
    "        db = BibDatabase()\n",
    "        db.entries = [{\n",
    "            'ID': self.data['id'],\n",
    "            'title': self.data['title'],\n",
    "            'author': authors,\n",
    "            'journal': self.data['host_venue']['display_name'],\n",
    "            'volume': self.data['biblio']['volume'],\n",
    "            'number': self.data['biblio']['issue'],\n",
    "            'pages': pages,\n",
    "            'year': str(self.data['publication_year']),\n",
    "            'url': self.data['doi'],\n",
    "            'ENTRYTYPE': self.data['type']\n",
    "        }]\n",
    "        writer = BibTexWriter()\n",
    "        entry = dumps(db, writer)\n",
    "        return print(entry)\n"
   ]
  },
  {
   "cell_type": "code",
   "execution_count": 10,
   "metadata": {},
   "outputs": [
    {
     "name": "stdout",
     "output_type": "stream",
     "text": [
      "/workspaces/s23-Final-Project\n"
     ]
    }
   ],
   "source": [
    "! pwd"
   ]
  },
  {
   "cell_type": "code",
   "execution_count": 15,
   "metadata": {},
   "outputs": [
    {
     "data": {
      "text/plain": [
       "['/workspaces/s23-Final-Project/pkg',\n",
       " './pkg',\n",
       " './pkg',\n",
       " 'pkg',\n",
       " '/workspaces/s23-Final-Project',\n",
       " '/home/codespace/.python/current/lib/python310.zip',\n",
       " '/home/codespace/.python/current/lib/python3.10',\n",
       " '/home/codespace/.python/current/lib/python3.10/lib-dynload',\n",
       " '',\n",
       " '/home/codespace/.local/lib/python3.10/site-packages',\n",
       " '/home/codespace/.python/current/lib/python3.10/site-packages']"
      ]
     },
     "execution_count": 15,
     "metadata": {},
     "output_type": "execute_result"
    }
   ],
   "source": [
    "import sys\n",
    "\n",
    "sys.path.insert(0, '/workspaces/s23-Final-Project/pkg')\n",
    "sys.path"
   ]
  },
  {
   "cell_type": "code",
   "execution_count": 16,
   "metadata": {},
   "outputs": [
    {
     "data": {
      "text/plain": [
       "['/workspaces/s23-Final-Project/pkg',\n",
       " './pkg',\n",
       " './pkg',\n",
       " 'pkg',\n",
       " '/workspaces/s23-Final-Project',\n",
       " '/home/codespace/.python/current/lib/python310.zip',\n",
       " '/home/codespace/.python/current/lib/python3.10',\n",
       " '/home/codespace/.python/current/lib/python3.10/lib-dynload',\n",
       " '',\n",
       " '/home/codespace/.local/lib/python3.10/site-packages',\n",
       " '/home/codespace/.python/current/lib/python3.10/site-packages']"
      ]
     },
     "execution_count": 16,
     "metadata": {},
     "output_type": "execute_result"
    }
   ],
   "source": [
    "sys.path"
   ]
  },
  {
   "cell_type": "code",
   "execution_count": 21,
   "metadata": {},
   "outputs": [
    {
     "data": {
      "text/markdown": [
       "[John R. Kitchin](https://openalex.org/A4330425867), *Examples of Effective Data Sharing in Scientific Publishing*, **[ACS Catalysis](https://openalex.org/S37391459)**, 5, 63894-3899, (2015), https://doi.org/10.1021/acscatal.5b00538. cited by: 18. [Open Alex](https://openalex.org/W2288114809)<br>![img](data:image/png;base64,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)"
      ],
      "text/plain": [
       "repr"
      ]
     },
     "execution_count": 21,
     "metadata": {},
     "output_type": "execute_result"
    }
   ],
   "source": [
    "from s23openalex import Works\n",
    "import bibtexparser\n",
    "\n",
    "w = Works('https://doi.org/10.1021/acscatal.5b00538')\n",
    "w"
   ]
  },
  {
   "cell_type": "code",
   "execution_count": 22,
   "metadata": {},
   "outputs": [],
   "source": [
    "! echo __pycache__ > pkg/.gitignore"
   ]
  },
  {
   "cell_type": "code",
   "execution_count": null,
   "metadata": {},
   "outputs": [],
   "source": []
  }
 ],
 "metadata": {
  "kernelspec": {
   "display_name": "Python 3",
   "language": "python",
   "name": "python3"
  },
  "language_info": {
   "codemirror_mode": {
    "name": "ipython",
    "version": 3
   },
   "file_extension": ".py",
   "mimetype": "text/x-python",
   "name": "python",
   "nbconvert_exporter": "python",
   "pygments_lexer": "ipython3",
   "version": "3.10.4"
  },
  "orig_nbformat": 4
 },
 "nbformat": 4,
 "nbformat_minor": 2
}
