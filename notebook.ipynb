{
 "cells": [
  {
   "cell_type": "code",
   "execution_count": 55,
   "metadata": {},
   "outputs": [],
   "source": [
    "from bibtexparser.bwriter import BibTexWriter\n",
    "from bibtexparser.bibdatabase import BibDatabase\n",
    "from bibtexparser import dumps\n",
    "import requests\n",
    "import base64\n",
    "import matplotlib.pyplot as plt\n",
    "from IPython.core.pylabtools import print_figure\n",
    "\n",
    "\n",
    "class Works:\n",
    "    def __init__(self, oaid):\n",
    "        self.oaid = oaid\n",
    "        self.req = requests.get(f'https://api.openalex.org/works/{oaid}')\n",
    "        self.data = self.req.json()\n",
    "        \n",
    "    def __str__(self):\n",
    "        return 'str'\n",
    "        \n",
    "    def __repr__(self):\n",
    "        return 'repr'\n",
    "\n",
    "    @property\n",
    "    def bibtex(self):\n",
    "        _authors = [au['author']['display_name'] for au in self.data['authorships']]\n",
    "        if len(_authors) == 0:\n",
    "            authors = 'Editorial'\n",
    "        elif len(_authors) == 1:\n",
    "            authors = _authors[0]\n",
    "        else:\n",
    "            authors = ', '.join(_authors[0:-1]) + ' and' + _authors[-1] \n",
    "        \n",
    "        pages = '-'.join([self.data['biblio'].get('first_page', '') or '',\n",
    "                          self.data['biblio'].get('last_page', '') or ''])\n",
    "        \n",
    "        db = BibDatabase()\n",
    "        db.entries = [{\n",
    "            'ID': self.data['id'],\n",
    "            'title': self.data['title'],\n",
    "            'author': authors,\n",
    "            'journal': self.data['host_venue']['display_name'],\n",
    "            'volume': self.data['biblio']['volume'],\n",
    "            'number': self.data['biblio']['issue'],\n",
    "            'pages': pages,\n",
    "            'year': str(self.data['publication_year']),\n",
    "            'url': self.data['doi'],\n",
    "            'ENTRYTYPE': self.data['type']\n",
    "        }]\n",
    "        writer = BibTexWriter()\n",
    "        bibtex = dumps(db, writer)\n",
    "        return print(bibtex)\n",
    "    \n",
    "    @property\n",
    "    def ris(self):\n",
    "        fields = []\n",
    "        if self.data['type'] == 'journal-article':\n",
    "            fields += ['TY  - JOUR']\n",
    "        else:\n",
    "            raise Exception(\"Unsupported type {self.data['type']}\")\n",
    "        \n",
    "        for author in self.data['authorships']:\n",
    "            fields += [f'AU  - {author[\"author\"][\"display_name\"]}']\n",
    "            \n",
    "        fields += [f'PY  - {self.data[\"publication_year\"]}']\n",
    "        fields += [f'TI  - {self.data[\"title\"]}']\n",
    "        fields += [f'JO  - {self.data[\"host_venue\"][\"display_name\"]}']\n",
    "        fields += [f'VL  - {self.data[\"biblio\"][\"volume\"]}']\n",
    "        \n",
    "        if self.data['biblio']['issue']:\n",
    "            fields += [f'IS  - {self.data[\"biblio\"][\"issue\"]}']\n",
    "        \n",
    "        \n",
    "        fields += [f'SP  - {self.data[\"biblio\"][\"first_page\"]}']\n",
    "        fields += [f'EP  - {self.data[\"biblio\"][\"last_page\"]}']\n",
    "        fields += [f'DO  - {self.data[\"doi\"]}']\n",
    "        fields += ['ER  -']\n",
    "                \n",
    "        ris = '\\n'.join(fields)\n",
    "        return print(ris)"
   ]
  },
  {
   "cell_type": "code",
   "execution_count": 56,
   "metadata": {},
   "outputs": [],
   "source": [
    "w = Works('https://doi.org/10.1021/acscatal.5b00538')"
   ]
  },
  {
   "cell_type": "code",
   "execution_count": 57,
   "metadata": {},
   "outputs": [
    {
     "name": "stdout",
     "output_type": "stream",
     "text": [
      "@journal-article{https://openalex.org/W2288114809,\n",
      " author = {John R. Kitchin},\n",
      " journal = {ACS Catalysis},\n",
      " number = {6},\n",
      " pages = {3894-3899},\n",
      " title = {Examples of Effective Data Sharing in Scientific Publishing},\n",
      " url = {https://doi.org/10.1021/acscatal.5b00538},\n",
      " volume = {5},\n",
      " year = {2015}\n",
      "}\n",
      "\n"
     ]
    }
   ],
   "source": [
    "w.bibtex"
   ]
  },
  {
   "cell_type": "code",
   "execution_count": 58,
   "metadata": {},
   "outputs": [
    {
     "name": "stdout",
     "output_type": "stream",
     "text": [
      "TY  - JOUR\n",
      "AU  - John R. Kitchin\n",
      "PY  - 2015\n",
      "TI  - Examples of Effective Data Sharing in Scientific Publishing\n",
      "JO  - ACS Catalysis\n",
      "VL  - 5\n",
      "IS  - 6\n",
      "SP  - 3894\n",
      "EP  - 3899\n",
      "DO  - https://doi.org/10.1021/acscatal.5b00538\n",
      "ER  -\n"
     ]
    }
   ],
   "source": [
    "w.ris"
   ]
  },
  {
   "cell_type": "code",
   "execution_count": null,
   "metadata": {},
   "outputs": [],
   "source": []
  }
 ],
 "metadata": {
  "kernelspec": {
   "display_name": "Python 3",
   "language": "python",
   "name": "python3"
  },
  "language_info": {
   "codemirror_mode": {
    "name": "ipython",
    "version": 3
   },
   "file_extension": ".py",
   "mimetype": "text/x-python",
   "name": "python",
   "nbconvert_exporter": "python",
   "pygments_lexer": "ipython3",
   "version": "3.10.4"
  },
  "orig_nbformat": 4
 },
 "nbformat": 4,
 "nbformat_minor": 2
}
